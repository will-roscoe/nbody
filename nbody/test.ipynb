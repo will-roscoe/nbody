{
 "cells": [
  {
   "cell_type": "code",
   "execution_count": 8,
   "metadata": {},
   "outputs": [
    {
     "name": "stdout",
     "output_type": "stream",
     "text": [
      "(0, 0)\n",
      "(3125, 5)\n",
      "(100000, 10)\n",
      "(759375, 15)\n",
      "(3200000, 20)\n"
     ]
    }
   ],
   "source": [
    "pos = ([(x**5,i) for i,x in enumerate(range(50))])\n",
    "fs = 5\n",
    "for x in range (50/fs):\n",
    "    ind = x*fs\n",
    "    m = pos[ind]\n",
    "    print(m)"
   ]
  }
 ],
 "metadata": {
  "kernelspec": {
   "display_name": ".venv",
   "language": "python",
   "name": "python3"
  },
  "language_info": {
   "codemirror_mode": {
    "name": "ipython",
    "version": 3
   },
   "file_extension": ".py",
   "mimetype": "text/x-python",
   "name": "python",
   "nbconvert_exporter": "python",
   "pygments_lexer": "ipython3",
   "version": "3.12.0"
  }
 },
 "nbformat": 4,
 "nbformat_minor": 2
}
