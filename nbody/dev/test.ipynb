{
 "cells": [
  {
   "cell_type": "code",
   "execution_count": 6,
   "metadata": {},
   "outputs": [],
   "source": [
    "def parse_text_file(file_path):\n",
    "    result = {}\n",
    "    with open(file_path, 'r') as file:\n",
    "        lines = file.readlines()\n",
    "\n",
    "        parsing_position = False\n",
    "        positions = []\n",
    "\n",
    "        for line in lines:\n",
    "            parts = line.split('=')\n",
    "            if len(parts) == 2:\n",
    "                key, value = map(str.strip, parts)\n",
    "                value = value.replace('(', '').replace(')', '').replace(',', '')\n",
    "\n",
    "                if key == 'name':\n",
    "                    result['name'] = value\n",
    "                elif key == 'mass':\n",
    "                    result['mass'] = float(value)\n",
    "                elif key == 'radius':\n",
    "                    result['radius'] = float(value)\n",
    "                elif key == 'position':\n",
    "                    parsing_position = True\n",
    "                    continue\n",
    "\n",
    "            if parsing_position:\n",
    "                if line.strip() == ')':\n",
    "                    result['position'] = positions\n",
    "                    parsing_position = False\n",
    "                else:\n",
    "                    position_tuple = tuple(map(int, line.strip().split(',')))\n",
    "                    positions.append(position_tuple)\n",
    "\n",
    "    return result\n"
   ]
  },
  {
   "cell_type": "code",
   "execution_count": 8,
   "metadata": {},
   "outputs": [],
   "source": [
    "def parse_text_file(file_path):\n",
    "    result = {}\n",
    "    with open(file_path, 'r') as file:\n",
    "        lines = file.readlines()\n",
    "\n",
    "        parsing_position = False\n",
    "        positions = []\n",
    "\n",
    "        for line in lines:\n",
    "            parts = line.split('=')\n",
    "            if len(parts) == 2:\n",
    "                key, value = map(str.strip, parts)\n",
    "                value = value.replace('(', '').replace(')', '').replace(',', '')\n",
    "\n",
    "                if key == 'name':\n",
    "                    result['name'] = value\n",
    "                elif key == 'mass':\n",
    "                    result['mass'] = float(value)\n",
    "                elif key == 'radius':\n",
    "                    result['radius'] = float(value)\n",
    "                elif key == 'position':\n",
    "                    parsing_position = True\n",
    "                    continue\n",
    "\n",
    "            if parsing_position:\n",
    "                if line.strip() == ')':\n",
    "                    result['position'] = positions\n",
    "                    parsing_position = False\n",
    "                else:\n",
    "                    position_str = line.strip().replace('(', '').replace(')', '')\n",
    "                    position_tuple = tuple(map(int, position_str.split(',')))\n",
    "                    positions.append(position_tuple)\n",
    "\n",
    "    return result"
   ]
  },
  {
   "cell_type": "code",
   "execution_count": 9,
   "metadata": {},
   "outputs": [
    {
     "name": "stdout",
     "output_type": "stream",
     "text": [
      "{'name': 'object_name', 'mass': 1.4213, 'position': [(1, 2, 3), (4, 5, 6), (7, 8, 9)], 'radius': 23.124}\n"
     ]
    }
   ],
   "source": [
    "print(parse_text_file('test.txt'))"
   ]
  }
 ],
 "metadata": {
  "kernelspec": {
   "display_name": "Python 3 (ipykernel)",
   "language": "python",
   "name": "python3"
  },
  "language_info": {
   "codemirror_mode": {
    "name": "ipython",
    "version": 3
   },
   "file_extension": ".py",
   "mimetype": "text/x-python",
   "name": "python",
   "nbconvert_exporter": "python",
   "pygments_lexer": "ipython3",
   "version": "3.11.5"
  }
 },
 "nbformat": 4,
 "nbformat_minor": 2
}
